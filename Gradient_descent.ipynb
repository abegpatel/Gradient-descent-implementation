{
  "nbformat": 4,
  "nbformat_minor": 0,
  "metadata": {
    "colab": {
      "name": "Gradient-descent.ipynb",
      "provenance": [],
      "authorship_tag": "ABX9TyOLA6iyWTBQAyD/oZXTDnRG",
      "include_colab_link": true
    },
    "kernelspec": {
      "name": "python3",
      "display_name": "Python 3"
    }
  },
  "cells": [
    {
      "cell_type": "markdown",
      "metadata": {
        "id": "view-in-github",
        "colab_type": "text"
      },
      "source": [
        "<a href=\"https://colab.research.google.com/github/abegpatel/Gradient-descent-implementation/blob/master/Gradient_descent.ipynb\" target=\"_parent\"><img src=\"https://colab.research.google.com/assets/colab-badge.svg\" alt=\"Open In Colab\"/></a>"
      ]
    },
    {
      "cell_type": "code",
      "metadata": {
        "id": "mJ1ngFliNbla",
        "colab_type": "code",
        "colab": {
          "base_uri": "https://localhost:8080/",
          "height": 265
        },
        "outputId": "cbf85e24-2895-4dda-9a2d-942e35a0ef96"
      },
      "source": [
        "#gradient descent\n",
        "#minimize the error\n",
        "import numpy as np\n",
        "import matplotlib.pyplot as plt\n",
        "%matplotlib inline\n",
        "def draw(x1,x2):\n",
        "  ln=plt.plot(x1,x2,'-')\n",
        "  plt.pause(0.0001)\n",
        "  ln[0].remove()\n",
        "def sigmoid(score):\n",
        "  return 1/(1+np.exp(-score))\n",
        "def calculate_error(line_parameters, points , y):\n",
        "  n=points.shape[0]\n",
        "  p= sigmoid(points*line_parameters)\n",
        "  cross_entropy=-(1/n)*(np.log(p).T*y + np.log(1-p).T*(1-y))\n",
        "  return cross_entropy\n",
        "def gradient_descent(line_parameters, points, y , alpha):\n",
        "  n=points.shape[0]\n",
        "  for i in range(2000):\n",
        "    p=sigmoid(points*line_parameters)\n",
        "    gradient= points.T*(p-y)*(alpha/n)\n",
        "    line_parameters = line_parameters - gradient\n",
        "    \n",
        "    w1=line_parameters.item(0)\n",
        "    w2=line_parameters.item(1)\n",
        "    b=line_parameters.item(2)\n",
        "    \n",
        "    x1=np.array([points[:,0].min(), points[:,0].max()])\n",
        "    x2= -b/w2 + (x1*(-w1/w2))\n",
        "  draw(x1,x2) \n",
        "  \n",
        "n_pts=100\n",
        "np.random.seed(0)\n",
        "bias= np.ones(n_pts)\n",
        "top_region=np.array([np.random.normal(10,2,n_pts), np.random.normal(12,2,n_pts), bias]).T\n",
        "bottom_region= np.array([np.random.normal(5,2, n_pts), np.random.normal(6,2, n_pts), bias]).T\n",
        "all_points=np.vstack((top_region, bottom_region))\n",
        " \n",
        "line_parameters = np.matrix([np.zeros(3)]).T\n",
        "# x1=np.array([bottom_region[:,0].min(), top_region[:,0].max()])\n",
        "# x2= -b/w2 + (x1*(-w1/w2))\n",
        "y=np.array([np.zeros(n_pts), np.ones(n_pts)]).reshape(n_pts*2, 1)\n",
        " \n",
        "_, ax= plt.subplots(figsize=(4,4))\n",
        "ax.scatter(top_region[:,0], top_region[:,1], color='r')\n",
        "ax.scatter(bottom_region[:,0], bottom_region[:,1], color='b')\n",
        "gradient_descent(line_parameters, all_points, y , 0.06)\n",
        "plt.show()"
      ],
      "execution_count": 1,
      "outputs": [
        {
          "output_type": "display_data",
          "data": {
            "image/png": "[encoded data removed]",
            "text/plain": [
              "<Figure size 288x288 with 1 Axes>"
            ]
          },
          "metadata": {
            "tags": [],
            "needs_background": "light"
          }
        }
      ]
    },
    {
      "cell_type": "code",
      "metadata": {
        "id": "NycJxNJzNiE8",
        "colab_type": "code",
        "colab": {}
      },
      "source": [
        ""
      ],
      "execution_count": null,
      "outputs": []
    }
  ]
}